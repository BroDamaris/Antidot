{
 "cells": [
  {
   "cell_type": "code",
   "execution_count": 1,
   "metadata": {},
   "outputs": [],
   "source": [
    "import pandas as pd\n",
    "import numpy as np\n",
    "import tensorflow as tf\n",
    "from sklearn.model_selection import train_test_split\n",
    "from sklearn.preprocessing import MultiLabelBinarizer\n",
    "from sklearn.metrics import classification_report, roc_auc_score\n",
    "import matplotlib.pyplot as plt\n",
    "import seaborn as sns"
   ]
  },
  {
   "cell_type": "code",
   "execution_count": 2,
   "metadata": {},
   "outputs": [
    {
     "name": "stderr",
     "output_type": "stream",
     "text": [
      "C:\\Users\\Luthfi Hanif\\AppData\\Local\\Temp\\ipykernel_24732\\163281125.py:3: FutureWarning: DataFrame.applymap has been deprecated. Use DataFrame.map instead.\n",
      "  symptoms_data = symptoms_data.applymap(lambda x: x.lower() if isinstance(x, str) else x)\n",
      "C:\\Users\\Luthfi Hanif\\AppData\\Local\\Temp\\ipykernel_24732\\163281125.py:4: FutureWarning: DataFrame.applymap has been deprecated. Use DataFrame.map instead.\n",
      "  training_data = training_data.applymap(lambda x: x.lower() if isinstance(x, str) else x)\n"
     ]
    }
   ],
   "source": [
    "symptoms_data = pd.read_csv('./data/symtoms_df.csv')\n",
    "training_data = pd.read_csv('./data/Training.csv')\n",
    "symptoms_data = symptoms_data.applymap(lambda x: x.lower() if isinstance(x, str) else x)\n",
    "training_data = training_data.applymap(lambda x: x.lower() if isinstance(x, str) else x)"
   ]
  },
  {
   "cell_type": "code",
   "execution_count": 3,
   "metadata": {},
   "outputs": [],
   "source": [
    "mlb = MultiLabelBinarizer()\n",
    "y_encoded = mlb.fit_transform(training_data['prognosis'].apply(lambda x: [x]))  # Wrap in list for multi-label compatibility"
   ]
  },
  {
   "cell_type": "code",
   "execution_count": 4,
   "metadata": {},
   "outputs": [],
   "source": [
    "X = training_data.drop(columns=['prognosis'])\n",
    "y = y_encoded"
   ]
  },
  {
   "cell_type": "code",
   "execution_count": 5,
   "metadata": {},
   "outputs": [
    {
     "name": "stdout",
     "output_type": "stream",
     "text": [
      "Unique classes: ['(vertigo) paroymsal  positional vertigo' 'acne' 'aids'\n",
      " 'alcoholic hepatitis' 'allergy' 'arthritis' 'bronchial asthma'\n",
      " 'cervical spondylosis' 'chicken pox' 'chronic cholestasis' 'common cold'\n",
      " 'dengue' 'diabetes ' 'dimorphic hemmorhoids(piles)' 'drug reaction'\n",
      " 'fungal infection' 'gastroenteritis' 'gerd' 'heart attack' 'hepatitis a'\n",
      " 'hepatitis b' 'hepatitis c' 'hepatitis d' 'hepatitis e' 'hypertension '\n",
      " 'hyperthyroidism' 'hypoglycemia' 'hypothyroidism' 'impetigo' 'jaundice'\n",
      " 'malaria' 'migraine' 'osteoarthristis' 'paralysis (brain hemorrhage)'\n",
      " 'peptic ulcer diseae' 'pneumonia' 'psoriasis' 'tuberculosis' 'typhoid'\n",
      " 'urinary tract infection' 'varicose veins']\n",
      "Shape of target after encoding: (4920, 41)\n"
     ]
    }
   ],
   "source": [
    "print(f\"Unique classes: {mlb.classes_}\")\n",
    "print(f\"Shape of target after encoding: {y.shape}\")"
   ]
  },
  {
   "cell_type": "code",
   "execution_count": 6,
   "metadata": {},
   "outputs": [],
   "source": [
    "X_train, X_test, y_train, y_test = train_test_split(X, y, test_size=0.2, stratify=y, random_state=42)"
   ]
  },
  {
   "cell_type": "code",
   "execution_count": 7,
   "metadata": {},
   "outputs": [
    {
     "name": "stderr",
     "output_type": "stream",
     "text": [
      "c:\\Users\\Luthfi Hanif\\AppData\\Local\\Programs\\Python\\Python312\\Lib\\site-packages\\keras\\src\\layers\\core\\dense.py:87: UserWarning: Do not pass an `input_shape`/`input_dim` argument to a layer. When using Sequential models, prefer using an `Input(shape)` object as the first layer in the model instead.\n",
      "  super().__init__(activity_regularizer=activity_regularizer, **kwargs)\n"
     ]
    }
   ],
   "source": [
    "model = tf.keras.Sequential([\n",
    "    tf.keras.layers.Dense(128, input_shape=(X_train.shape[1],), activation='relu'),\n",
    "    tf.keras.layers.Dropout(0.3),\n",
    "    tf.keras.layers.Dense(64, activation='relu'),\n",
    "    tf.keras.layers.Dense(y.shape[1], activation='sigmoid')  # Sigmoid for binary crossentropy\n",
    "])\n",
    "\n",
    "model.compile(optimizer='adam',\n",
    "              loss='binary_crossentropy',\n",
    "              metrics=['accuracy'])"
   ]
  },
  {
   "cell_type": "code",
   "execution_count": 8,
   "metadata": {},
   "outputs": [
    {
     "name": "stdout",
     "output_type": "stream",
     "text": [
      "Epoch 1/50\n",
      "\u001b[1m99/99\u001b[0m \u001b[32m━━━━━━━━━━━━━━━━━━━━\u001b[0m\u001b[37m\u001b[0m \u001b[1m2s\u001b[0m 4ms/step - accuracy: 0.0542 - loss: 0.4344 - val_accuracy: 0.5888 - val_loss: 0.0985\n",
      "Epoch 2/50\n",
      "\u001b[1m99/99\u001b[0m \u001b[32m━━━━━━━━━━━━━━━━━━━━\u001b[0m\u001b[37m\u001b[0m \u001b[1m0s\u001b[0m 2ms/step - accuracy: 0.6071 - loss: 0.0906 - val_accuracy: 0.9937 - val_loss: 0.0502\n",
      "Epoch 3/50\n",
      "\u001b[1m99/99\u001b[0m \u001b[32m━━━━━━━━━━━━━━━━━━━━\u001b[0m\u001b[37m\u001b[0m \u001b[1m0s\u001b[0m 2ms/step - accuracy: 0.9804 - loss: 0.0438 - val_accuracy: 1.0000 - val_loss: 0.0169\n",
      "Epoch 4/50\n",
      "\u001b[1m99/99\u001b[0m \u001b[32m━━━━━━━━━━━━━━━━━━━━\u001b[0m\u001b[37m\u001b[0m \u001b[1m0s\u001b[0m 2ms/step - accuracy: 0.9987 - loss: 0.0173 - val_accuracy: 1.0000 - val_loss: 0.0063\n",
      "Epoch 5/50\n",
      "\u001b[1m99/99\u001b[0m \u001b[32m━━━━━━━━━━━━━━━━━━━━\u001b[0m\u001b[37m\u001b[0m \u001b[1m0s\u001b[0m 2ms/step - accuracy: 0.9987 - loss: 0.0084 - val_accuracy: 1.0000 - val_loss: 0.0031\n",
      "Epoch 6/50\n",
      "\u001b[1m99/99\u001b[0m \u001b[32m━━━━━━━━━━━━━━━━━━━━\u001b[0m\u001b[37m\u001b[0m \u001b[1m0s\u001b[0m 1ms/step - accuracy: 0.9998 - loss: 0.0046 - val_accuracy: 1.0000 - val_loss: 0.0017\n",
      "Epoch 7/50\n",
      "\u001b[1m99/99\u001b[0m \u001b[32m━━━━━━━━━━━━━━━━━━━━\u001b[0m\u001b[37m\u001b[0m \u001b[1m0s\u001b[0m 1ms/step - accuracy: 1.0000 - loss: 0.0029 - val_accuracy: 1.0000 - val_loss: 0.0010\n",
      "Epoch 8/50\n",
      "\u001b[1m99/99\u001b[0m \u001b[32m━━━━━━━━━━━━━━━━━━━━\u001b[0m\u001b[37m\u001b[0m \u001b[1m0s\u001b[0m 2ms/step - accuracy: 1.0000 - loss: 0.0021 - val_accuracy: 1.0000 - val_loss: 7.1231e-04\n",
      "Epoch 9/50\n",
      "\u001b[1m99/99\u001b[0m \u001b[32m━━━━━━━━━━━━━━━━━━━━\u001b[0m\u001b[37m\u001b[0m \u001b[1m0s\u001b[0m 2ms/step - accuracy: 0.9998 - loss: 0.0017 - val_accuracy: 1.0000 - val_loss: 4.9067e-04\n",
      "Epoch 10/50\n",
      "\u001b[1m99/99\u001b[0m \u001b[32m━━━━━━━━━━━━━━━━━━━━\u001b[0m\u001b[37m\u001b[0m \u001b[1m0s\u001b[0m 2ms/step - accuracy: 0.9993 - loss: 0.0013 - val_accuracy: 1.0000 - val_loss: 3.6281e-04\n",
      "Epoch 11/50\n",
      "\u001b[1m99/99\u001b[0m \u001b[32m━━━━━━━━━━━━━━━━━━━━\u001b[0m\u001b[37m\u001b[0m \u001b[1m0s\u001b[0m 2ms/step - accuracy: 0.9994 - loss: 0.0011 - val_accuracy: 1.0000 - val_loss: 2.7351e-04\n",
      "Epoch 12/50\n",
      "\u001b[1m99/99\u001b[0m \u001b[32m━━━━━━━━━━━━━━━━━━━━\u001b[0m\u001b[37m\u001b[0m \u001b[1m0s\u001b[0m 2ms/step - accuracy: 1.0000 - loss: 7.8802e-04 - val_accuracy: 1.0000 - val_loss: 2.0879e-04\n",
      "Epoch 13/50\n",
      "\u001b[1m99/99\u001b[0m \u001b[32m━━━━━━━━━━━━━━━━━━━━\u001b[0m\u001b[37m\u001b[0m \u001b[1m0s\u001b[0m 1ms/step - accuracy: 1.0000 - loss: 6.3252e-04 - val_accuracy: 1.0000 - val_loss: 1.6696e-04\n",
      "Epoch 14/50\n",
      "\u001b[1m99/99\u001b[0m \u001b[32m━━━━━━━━━━━━━━━━━━━━\u001b[0m\u001b[37m\u001b[0m \u001b[1m0s\u001b[0m 1ms/step - accuracy: 1.0000 - loss: 6.0559e-04 - val_accuracy: 1.0000 - val_loss: 1.3370e-04\n",
      "Epoch 15/50\n",
      "\u001b[1m99/99\u001b[0m \u001b[32m━━━━━━━━━━━━━━━━━━━━\u001b[0m\u001b[37m\u001b[0m \u001b[1m0s\u001b[0m 2ms/step - accuracy: 1.0000 - loss: 4.5560e-04 - val_accuracy: 1.0000 - val_loss: 1.1490e-04\n",
      "Epoch 16/50\n",
      "\u001b[1m99/99\u001b[0m \u001b[32m━━━━━━━━━━━━━━━━━━━━\u001b[0m\u001b[37m\u001b[0m \u001b[1m0s\u001b[0m 2ms/step - accuracy: 1.0000 - loss: 4.2688e-04 - val_accuracy: 1.0000 - val_loss: 8.9866e-05\n",
      "Epoch 17/50\n",
      "\u001b[1m99/99\u001b[0m \u001b[32m━━━━━━━━━━━━━━━━━━━━\u001b[0m\u001b[37m\u001b[0m \u001b[1m0s\u001b[0m 1ms/step - accuracy: 1.0000 - loss: 3.4758e-04 - val_accuracy: 1.0000 - val_loss: 7.7041e-05\n",
      "Epoch 18/50\n",
      "\u001b[1m99/99\u001b[0m \u001b[32m━━━━━━━━━━━━━━━━━━━━\u001b[0m\u001b[37m\u001b[0m \u001b[1m0s\u001b[0m 1ms/step - accuracy: 1.0000 - loss: 3.0767e-04 - val_accuracy: 1.0000 - val_loss: 6.1994e-05\n",
      "Epoch 19/50\n",
      "\u001b[1m99/99\u001b[0m \u001b[32m━━━━━━━━━━━━━━━━━━━━\u001b[0m\u001b[37m\u001b[0m \u001b[1m0s\u001b[0m 1ms/step - accuracy: 1.0000 - loss: 3.0555e-04 - val_accuracy: 1.0000 - val_loss: 5.4250e-05\n",
      "Epoch 20/50\n",
      "\u001b[1m99/99\u001b[0m \u001b[32m━━━━━━━━━━━━━━━━━━━━\u001b[0m\u001b[37m\u001b[0m \u001b[1m0s\u001b[0m 1ms/step - accuracy: 1.0000 - loss: 2.4639e-04 - val_accuracy: 1.0000 - val_loss: 4.5499e-05\n",
      "Epoch 21/50\n",
      "\u001b[1m99/99\u001b[0m \u001b[32m━━━━━━━━━━━━━━━━━━━━\u001b[0m\u001b[37m\u001b[0m \u001b[1m0s\u001b[0m 2ms/step - accuracy: 0.9993 - loss: 2.9195e-04 - val_accuracy: 1.0000 - val_loss: 4.1196e-05\n",
      "Epoch 22/50\n",
      "\u001b[1m99/99\u001b[0m \u001b[32m━━━━━━━━━━━━━━━━━━━━\u001b[0m\u001b[37m\u001b[0m \u001b[1m0s\u001b[0m 1ms/step - accuracy: 1.0000 - loss: 2.0615e-04 - val_accuracy: 1.0000 - val_loss: 3.7684e-05\n",
      "Epoch 23/50\n",
      "\u001b[1m99/99\u001b[0m \u001b[32m━━━━━━━━━━━━━━━━━━━━\u001b[0m\u001b[37m\u001b[0m \u001b[1m0s\u001b[0m 2ms/step - accuracy: 1.0000 - loss: 1.8931e-04 - val_accuracy: 1.0000 - val_loss: 2.9999e-05\n",
      "Epoch 24/50\n",
      "\u001b[1m99/99\u001b[0m \u001b[32m━━━━━━━━━━━━━━━━━━━━\u001b[0m\u001b[37m\u001b[0m \u001b[1m0s\u001b[0m 1ms/step - accuracy: 1.0000 - loss: 1.4295e-04 - val_accuracy: 1.0000 - val_loss: 2.7513e-05\n",
      "Epoch 25/50\n",
      "\u001b[1m99/99\u001b[0m \u001b[32m━━━━━━━━━━━━━━━━━━━━\u001b[0m\u001b[37m\u001b[0m \u001b[1m0s\u001b[0m 1ms/step - accuracy: 1.0000 - loss: 1.4761e-04 - val_accuracy: 1.0000 - val_loss: 2.2987e-05\n",
      "Epoch 26/50\n",
      "\u001b[1m99/99\u001b[0m \u001b[32m━━━━━━━━━━━━━━━━━━━━\u001b[0m\u001b[37m\u001b[0m \u001b[1m0s\u001b[0m 1ms/step - accuracy: 1.0000 - loss: 1.1735e-04 - val_accuracy: 1.0000 - val_loss: 2.0073e-05\n",
      "Epoch 27/50\n",
      "\u001b[1m99/99\u001b[0m \u001b[32m━━━━━━━━━━━━━━━━━━━━\u001b[0m\u001b[37m\u001b[0m \u001b[1m0s\u001b[0m 1ms/step - accuracy: 1.0000 - loss: 1.4966e-04 - val_accuracy: 1.0000 - val_loss: 1.8751e-05\n",
      "Epoch 28/50\n",
      "\u001b[1m99/99\u001b[0m \u001b[32m━━━━━━━━━━━━━━━━━━━━\u001b[0m\u001b[37m\u001b[0m \u001b[1m0s\u001b[0m 1ms/step - accuracy: 1.0000 - loss: 1.4883e-04 - val_accuracy: 1.0000 - val_loss: 1.5849e-05\n",
      "Epoch 29/50\n",
      "\u001b[1m99/99\u001b[0m \u001b[32m━━━━━━━━━━━━━━━━━━━━\u001b[0m\u001b[37m\u001b[0m \u001b[1m0s\u001b[0m 1ms/step - accuracy: 1.0000 - loss: 1.1007e-04 - val_accuracy: 1.0000 - val_loss: 1.5904e-05\n",
      "Epoch 30/50\n",
      "\u001b[1m99/99\u001b[0m \u001b[32m━━━━━━━━━━━━━━━━━━━━\u001b[0m\u001b[37m\u001b[0m \u001b[1m0s\u001b[0m 1ms/step - accuracy: 1.0000 - loss: 8.4684e-05 - val_accuracy: 1.0000 - val_loss: 1.4255e-05\n",
      "Epoch 31/50\n",
      "\u001b[1m99/99\u001b[0m \u001b[32m━━━━━━━━━━━━━━━━━━━━\u001b[0m\u001b[37m\u001b[0m \u001b[1m0s\u001b[0m 1ms/step - accuracy: 1.0000 - loss: 8.3816e-05 - val_accuracy: 1.0000 - val_loss: 1.2073e-05\n",
      "Epoch 32/50\n",
      "\u001b[1m99/99\u001b[0m \u001b[32m━━━━━━━━━━━━━━━━━━━━\u001b[0m\u001b[37m\u001b[0m \u001b[1m0s\u001b[0m 1ms/step - accuracy: 1.0000 - loss: 7.0588e-05 - val_accuracy: 1.0000 - val_loss: 1.2147e-05\n",
      "Epoch 33/50\n",
      "\u001b[1m99/99\u001b[0m \u001b[32m━━━━━━━━━━━━━━━━━━━━\u001b[0m\u001b[37m\u001b[0m \u001b[1m0s\u001b[0m 1ms/step - accuracy: 1.0000 - loss: 6.8267e-05 - val_accuracy: 1.0000 - val_loss: 1.2147e-05\n",
      "Epoch 34/50\n",
      "\u001b[1m99/99\u001b[0m \u001b[32m━━━━━━━━━━━━━━━━━━━━\u001b[0m\u001b[37m\u001b[0m \u001b[1m0s\u001b[0m 2ms/step - accuracy: 1.0000 - loss: 7.9362e-05 - val_accuracy: 1.0000 - val_loss: 8.5460e-06\n",
      "Epoch 35/50\n",
      "\u001b[1m99/99\u001b[0m \u001b[32m━━━━━━━━━━━━━━━━━━━━\u001b[0m\u001b[37m\u001b[0m \u001b[1m0s\u001b[0m 2ms/step - accuracy: 1.0000 - loss: 6.8973e-05 - val_accuracy: 1.0000 - val_loss: 6.9868e-06\n",
      "Epoch 36/50\n",
      "\u001b[1m99/99\u001b[0m \u001b[32m━━━━━━━━━━━━━━━━━━━━\u001b[0m\u001b[37m\u001b[0m \u001b[1m0s\u001b[0m 2ms/step - accuracy: 1.0000 - loss: 7.6713e-05 - val_accuracy: 1.0000 - val_loss: 7.7733e-06\n",
      "Epoch 37/50\n",
      "\u001b[1m99/99\u001b[0m \u001b[32m━━━━━━━━━━━━━━━━━━━━\u001b[0m\u001b[37m\u001b[0m \u001b[1m0s\u001b[0m 2ms/step - accuracy: 1.0000 - loss: 6.9842e-05 - val_accuracy: 1.0000 - val_loss: 6.1124e-06\n",
      "Epoch 38/50\n",
      "\u001b[1m99/99\u001b[0m \u001b[32m━━━━━━━━━━━━━━━━━━━━\u001b[0m\u001b[37m\u001b[0m \u001b[1m0s\u001b[0m 1ms/step - accuracy: 1.0000 - loss: 6.5316e-05 - val_accuracy: 1.0000 - val_loss: 5.4576e-06\n",
      "Epoch 39/50\n",
      "\u001b[1m99/99\u001b[0m \u001b[32m━━━━━━━━━━━━━━━━━━━━\u001b[0m\u001b[37m\u001b[0m \u001b[1m0s\u001b[0m 2ms/step - accuracy: 1.0000 - loss: 4.6108e-05 - val_accuracy: 1.0000 - val_loss: 5.0915e-06\n",
      "Epoch 40/50\n",
      "\u001b[1m99/99\u001b[0m \u001b[32m━━━━━━━━━━━━━━━━━━━━\u001b[0m\u001b[37m\u001b[0m \u001b[1m0s\u001b[0m 2ms/step - accuracy: 1.0000 - loss: 5.3669e-05 - val_accuracy: 1.0000 - val_loss: 4.9058e-06\n",
      "Epoch 41/50\n",
      "\u001b[1m99/99\u001b[0m \u001b[32m━━━━━━━━━━━━━━━━━━━━\u001b[0m\u001b[37m\u001b[0m \u001b[1m0s\u001b[0m 2ms/step - accuracy: 1.0000 - loss: 4.4369e-05 - val_accuracy: 1.0000 - val_loss: 4.1118e-06\n",
      "Epoch 42/50\n",
      "\u001b[1m99/99\u001b[0m \u001b[32m━━━━━━━━━━━━━━━━━━━━\u001b[0m\u001b[37m\u001b[0m \u001b[1m0s\u001b[0m 2ms/step - accuracy: 1.0000 - loss: 3.7934e-05 - val_accuracy: 1.0000 - val_loss: 3.6768e-06\n",
      "Epoch 43/50\n",
      "\u001b[1m99/99\u001b[0m \u001b[32m━━━━━━━━━━━━━━━━━━━━\u001b[0m\u001b[37m\u001b[0m \u001b[1m0s\u001b[0m 2ms/step - accuracy: 1.0000 - loss: 5.3235e-05 - val_accuracy: 1.0000 - val_loss: 3.3798e-06\n",
      "Epoch 44/50\n",
      "\u001b[1m99/99\u001b[0m \u001b[32m━━━━━━━━━━━━━━━━━━━━\u001b[0m\u001b[37m\u001b[0m \u001b[1m0s\u001b[0m 1ms/step - accuracy: 1.0000 - loss: 4.1389e-05 - val_accuracy: 1.0000 - val_loss: 3.1109e-06\n",
      "Epoch 45/50\n",
      "\u001b[1m99/99\u001b[0m \u001b[32m━━━━━━━━━━━━━━━━━━━━\u001b[0m\u001b[37m\u001b[0m \u001b[1m0s\u001b[0m 1ms/step - accuracy: 1.0000 - loss: 5.2031e-05 - val_accuracy: 1.0000 - val_loss: 3.5300e-06\n",
      "Epoch 46/50\n",
      "\u001b[1m99/99\u001b[0m \u001b[32m━━━━━━━━━━━━━━━━━━━━\u001b[0m\u001b[37m\u001b[0m \u001b[1m0s\u001b[0m 1ms/step - accuracy: 1.0000 - loss: 3.3497e-05 - val_accuracy: 1.0000 - val_loss: 3.1997e-06\n",
      "Epoch 47/50\n",
      "\u001b[1m99/99\u001b[0m \u001b[32m━━━━━━━━━━━━━━━━━━━━\u001b[0m\u001b[37m\u001b[0m \u001b[1m0s\u001b[0m 1ms/step - accuracy: 1.0000 - loss: 2.9810e-05 - val_accuracy: 1.0000 - val_loss: 2.5516e-06\n",
      "Epoch 48/50\n",
      "\u001b[1m99/99\u001b[0m \u001b[32m━━━━━━━━━━━━━━━━━━━━\u001b[0m\u001b[37m\u001b[0m \u001b[1m0s\u001b[0m 1ms/step - accuracy: 1.0000 - loss: 3.2178e-05 - val_accuracy: 1.0000 - val_loss: 2.3637e-06\n",
      "Epoch 49/50\n",
      "\u001b[1m99/99\u001b[0m \u001b[32m━━━━━━━━━━━━━━━━━━━━\u001b[0m\u001b[37m\u001b[0m \u001b[1m0s\u001b[0m 2ms/step - accuracy: 1.0000 - loss: 2.3207e-05 - val_accuracy: 1.0000 - val_loss: 1.9170e-06\n",
      "Epoch 50/50\n",
      "\u001b[1m99/99\u001b[0m \u001b[32m━━━━━━━━━━━━━━━━━━━━\u001b[0m\u001b[37m\u001b[0m \u001b[1m0s\u001b[0m 1ms/step - accuracy: 1.0000 - loss: 2.2098e-05 - val_accuracy: 1.0000 - val_loss: 3.2195e-06\n"
     ]
    }
   ],
   "source": [
    "history = model.fit(X_train, y_train,\n",
    "                    validation_split=0.2,\n",
    "                    epochs=50,\n",
    "                    batch_size=32,\n",
    "                    callbacks=[tf.keras.callbacks.EarlyStopping(patience=5, restore_best_weights=True)],\n",
    "                    verbose=1)"
   ]
  },
  {
   "cell_type": "code",
   "execution_count": 9,
   "metadata": {},
   "outputs": [
    {
     "data": {
      "image/png": "[encoded data removed]",
      "text/plain": [
       "<Figure size 1200x400 with 2 Axes>"
      ]
     },
     "metadata": {},
     "output_type": "display_data"
    }
   ],
   "source": [
    "plt.figure(figsize=(12, 4))\n",
    "plt.subplot(1, 2, 1)\n",
    "plt.plot(history.history['accuracy'], label='Train Accuracy')\n",
    "plt.plot(history.history['val_accuracy'], label='Val Accuracy')\n",
    "plt.xlabel('Epochs')\n",
    "plt.ylabel('Accuracy')\n",
    "plt.legend()\n",
    "plt.title('Model Accuracy')\n",
    "\n",
    "plt.subplot(1, 2, 2)\n",
    "plt.plot(history.history['loss'], label='Train Loss')\n",
    "plt.plot(history.history['val_loss'], label='Val Loss')\n",
    "plt.xlabel('Epochs')\n",
    "plt.ylabel('Loss')\n",
    "plt.legend()\n",
    "plt.title('Model Loss')\n",
    "plt.show()"
   ]
  },
  {
   "cell_type": "code",
   "execution_count": 10,
   "metadata": {},
   "outputs": [
    {
     "name": "stdout",
     "output_type": "stream",
     "text": [
      "\u001b[1m31/31\u001b[0m \u001b[32m━━━━━━━━━━━━━━━━━━━━\u001b[0m\u001b[37m\u001b[0m \u001b[1m0s\u001b[0m 2ms/step\n"
     ]
    }
   ],
   "source": [
    "y_pred = model.predict(X_test)\n",
    "y_pred_binary = (y_pred > 0.5).astype(int)"
   ]
  },
  {
   "cell_type": "code",
   "execution_count": 11,
   "metadata": {},
   "outputs": [
    {
     "name": "stdout",
     "output_type": "stream",
     "text": [
      "                                         precision    recall  f1-score   support\n",
      "\n",
      "(vertigo) paroymsal  positional vertigo       1.00      1.00      1.00        24\n",
      "                                   acne       1.00      1.00      1.00        24\n",
      "                                   aids       1.00      1.00      1.00        24\n",
      "                    alcoholic hepatitis       1.00      1.00      1.00        24\n",
      "                                allergy       1.00      1.00      1.00        24\n",
      "                              arthritis       1.00      1.00      1.00        24\n",
      "                       bronchial asthma       1.00      1.00      1.00        24\n",
      "                   cervical spondylosis       1.00      1.00      1.00        24\n",
      "                            chicken pox       1.00      1.00      1.00        24\n",
      "                    chronic cholestasis       1.00      1.00      1.00        24\n",
      "                            common cold       1.00      1.00      1.00        24\n",
      "                                 dengue       1.00      1.00      1.00        24\n",
      "                              diabetes        1.00      1.00      1.00        24\n",
      "           dimorphic hemmorhoids(piles)       1.00      1.00      1.00        24\n",
      "                          drug reaction       1.00      1.00      1.00        24\n",
      "                       fungal infection       1.00      1.00      1.00        24\n",
      "                        gastroenteritis       1.00      1.00      1.00        24\n",
      "                                   gerd       1.00      1.00      1.00        24\n",
      "                           heart attack       1.00      1.00      1.00        24\n",
      "                            hepatitis a       1.00      1.00      1.00        24\n",
      "                            hepatitis b       1.00      1.00      1.00        24\n",
      "                            hepatitis c       1.00      1.00      1.00        24\n",
      "                            hepatitis d       1.00      1.00      1.00        24\n",
      "                            hepatitis e       1.00      1.00      1.00        24\n",
      "                          hypertension        1.00      1.00      1.00        24\n",
      "                        hyperthyroidism       1.00      1.00      1.00        24\n",
      "                           hypoglycemia       1.00      1.00      1.00        24\n",
      "                         hypothyroidism       1.00      1.00      1.00        24\n",
      "                               impetigo       1.00      1.00      1.00        24\n",
      "                               jaundice       1.00      1.00      1.00        24\n",
      "                                malaria       1.00      1.00      1.00        24\n",
      "                               migraine       1.00      1.00      1.00        24\n",
      "                        osteoarthristis       1.00      1.00      1.00        24\n",
      "           paralysis (brain hemorrhage)       1.00      1.00      1.00        24\n",
      "                    peptic ulcer diseae       1.00      1.00      1.00        24\n",
      "                              pneumonia       1.00      1.00      1.00        24\n",
      "                              psoriasis       1.00      1.00      1.00        24\n",
      "                           tuberculosis       1.00      1.00      1.00        24\n",
      "                                typhoid       1.00      1.00      1.00        24\n",
      "                urinary tract infection       1.00      1.00      1.00        24\n",
      "                         varicose veins       1.00      1.00      1.00        24\n",
      "\n",
      "                              micro avg       1.00      1.00      1.00       984\n",
      "                              macro avg       1.00      1.00      1.00       984\n",
      "                           weighted avg       1.00      1.00      1.00       984\n",
      "                            samples avg       1.00      1.00      1.00       984\n",
      "\n",
      "ROC AUC Score: 1.0\n"
     ]
    }
   ],
   "source": [
    "print(classification_report(y_test, y_pred_binary, target_names=mlb.classes_))\n",
    "print(\"ROC AUC Score:\", roc_auc_score(y_test, y_pred))"
   ]
  },
  {
   "cell_type": "code",
   "execution_count": 12,
   "metadata": {},
   "outputs": [
    {
     "name": "stdout",
     "output_type": "stream",
     "text": [
      "\u001b[1m1/1\u001b[0m \u001b[32m━━━━━━━━━━━━━━━━━━━━\u001b[0m\u001b[37m\u001b[0m \u001b[1m0s\u001b[0m 52ms/step\n",
      "Predictions: {'hepatitis d': 0.6946139, 'jaundice': 0.00051990757, 'psoriasis': 7.032578e-05, 'urinary tract infection': 5.5413784e-05, 'osteoarthristis': 3.2523156e-05, 'allergy': 1.041264e-05, 'gastroenteritis': 1.02179065e-05, 'alcoholic hepatitis': 3.8735843e-06, 'dengue': 3.66109e-06, 'hepatitis a': 3.619138e-06, 'hypothyroidism': 2.1716007e-06, 'hepatitis e': 1.0486505e-06, 'varicose veins': 9.62529e-07, 'hyperthyroidism': 8.963462e-07, 'typhoid': 7.2516804e-07, 'migraine': 2.4665482e-07, 'drug reaction': 2.4507074e-07, 'hypoglycemia': 2.1740365e-07, 'peptic ulcer diseae': 1.7192916e-07, 'hepatitis b': 1.4521734e-07, 'arthritis': 1.4491285e-07, 'paralysis (brain hemorrhage)': 1.3920723e-07, 'aids': 1.1230937e-07, 'dimorphic hemmorhoids(piles)': 9.7873176e-08, 'acne': 9.3578294e-08, 'heart attack': 8.631713e-08, 'tuberculosis': 4.4308358e-08, 'diabetes ': 2.4195252e-08, 'common cold': 2.3312284e-08, 'gerd': 2.1354273e-08, 'pneumonia': 1.1894514e-08, 'impetigo': 5.2091296e-09, 'bronchial asthma': 3.830692e-09, 'chronic cholestasis': 1.8667878e-09, 'hepatitis c': 6.68466e-10, '(vertigo) paroymsal  positional vertigo': 5.5542637e-10, 'cervical spondylosis': 4.664918e-10, 'malaria': 3.7699843e-10, 'chicken pox': 6.897599e-11, 'hypertension ': 4.314973e-12, 'fungal infection': 3.9290056e-13}\n"
     ]
    }
   ],
   "source": [
    "def predict_disease(symptoms_input):\n",
    "    input_data = np.zeros((1, X_train.shape[1]))\n",
    "    for symptom in symptoms_input:\n",
    "        if symptom in X.columns:\n",
    "            input_data[0, X.columns.get_loc(symptom)] = 1\n",
    "    probabilities = model.predict(input_data)[0]\n",
    "    predictions = {mlb.classes_[i]: prob for i, prob in enumerate(probabilities)}\n",
    "    sorted_predictions = dict(sorted(predictions.items(), key=lambda item: item[1], reverse=True))\n",
    "    return sorted_predictions\n",
    "\n",
    "# Example Prediction\n",
    "user_input = ['joint_pain', 'vomiting', 'yellowish_skin', 'dark_urine']  # Replace with actual symptoms\n",
    "prediction = predict_disease(user_input)\n",
    "print(\"Predictions:\", prediction)"
   ]
  }
 ],
 "metadata": {
  "kernelspec": {
   "display_name": "Python 3",
   "language": "python",
   "name": "python3"
  },
  "language_info": {
   "codemirror_mode": {
    "name": "ipython",
    "version": 3
   },
   "file_extension": ".py",
   "mimetype": "text/x-python",
   "name": "python",
   "nbconvert_exporter": "python",
   "pygments_lexer": "ipython3",
   "version": "3.12.6"
  }
 },
 "nbformat": 4,
 "nbformat_minor": 2
}
